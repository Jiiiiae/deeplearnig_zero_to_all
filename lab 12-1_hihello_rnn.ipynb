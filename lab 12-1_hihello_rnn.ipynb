{
 "cells": [
  {
   "cell_type": "markdown",
   "id": "c2b4ed03",
   "metadata": {},
   "source": [
    "# lab 12-1 (hihello) "
   ]
  },
  {
   "cell_type": "code",
   "execution_count": 1,
   "id": "9866db41",
   "metadata": {},
   "outputs": [
    {
     "data": {
      "text/plain": [
       "'1.19.5'"
      ]
     },
     "execution_count": 1,
     "metadata": {},
     "output_type": "execute_result"
    }
   ],
   "source": [
    "import numpy as np\n",
    "import tensorflow as tf\n",
    "np.__version__\n",
    "# NotImplementedError: Cannot convert a symbolic Tensor (sequential_1/rnn_5/strided_slice:0) to a numpy array.\n",
    "# This error may indicate that you're trying to pass a Tensor to a NumPy call, which is not supported\n",
    "# numpy version 2.0 -> 1.95 downgrade\n"
   ]
  },
  {
   "cell_type": "code",
   "execution_count": 2,
   "id": "19f746a7",
   "metadata": {},
   "outputs": [],
   "source": [
    "num_classes = 5\n",
    "input_dim = 5\n",
    "sequence_len = 6\n",
    "learning_rate = 0.1"
   ]
  },
  {
   "cell_type": "code",
   "execution_count": 3,
   "id": "8734d510",
   "metadata": {},
   "outputs": [],
   "source": [
    "idx2char = ['h','i','e','l','o']\n",
    "\n",
    "x_data = [[0,1,0,2,3,3]]\n",
    "y_data = [[1,0,2,3,3,4]]\n",
    "\n",
    "x_one_hot = tf.keras.utils.to_categorical(x_data,num_classes)\n",
    "y_one_hot = tf.keras.utils.to_categorical(y_data,num_classes)\n",
    "#teach hihello : hihell -> ihello\n"
   ]
  },
  {
   "cell_type": "code",
   "execution_count": 4,
   "id": "7cbb5ad9",
   "metadata": {},
   "outputs": [
    {
     "name": "stdout",
     "output_type": "stream",
     "text": [
      "(1, 6, 5) \n",
      " (1, 6, 5)\n"
     ]
    }
   ],
   "source": [
    "print(x_one_hot.shape, '\\n',y_one_hot.shape)"
   ]
  },
  {
   "cell_type": "code",
   "execution_count": 5,
   "id": "78a3e8b2",
   "metadata": {},
   "outputs": [],
   "source": [
    "model = tf.keras.Sequential()"
   ]
  },
  {
   "cell_type": "code",
   "execution_count": 6,
   "id": "2afe8ddd",
   "metadata": {},
   "outputs": [
    {
     "name": "stdout",
     "output_type": "stream",
     "text": [
      "Epoch 1/50\n"
     ]
    },
    {
     "name": "stderr",
     "output_type": "stream",
     "text": [
      "2021-09-29 11:53:45.766445: I tensorflow/compiler/mlir/mlir_graph_optimization_pass.cc:116] None of the MLIR optimization passes are enabled (registered 2)\n",
      "2021-09-29 11:53:45.766622: W tensorflow/core/platform/profile_utils/cpu_utils.cc:126] Failed to get CPU frequency: 0 Hz\n"
     ]
    },
    {
     "name": "stdout",
     "output_type": "stream",
     "text": [
      "1/1 [==============================] - 0s 451ms/step - loss: 1.6056 - accuracy: 0.3333\n",
      "Epoch 2/50\n",
      "1/1 [==============================] - 0s 3ms/step - loss: 1.5135 - accuracy: 0.3333\n",
      "Epoch 3/50\n",
      "1/1 [==============================] - 0s 3ms/step - loss: 1.4216 - accuracy: 0.3333\n",
      "Epoch 4/50\n",
      "1/1 [==============================] - 0s 3ms/step - loss: 1.3284 - accuracy: 0.3333\n",
      "Epoch 5/50\n",
      "1/1 [==============================] - 0s 3ms/step - loss: 1.2288 - accuracy: 0.3333\n",
      "Epoch 6/50\n",
      "1/1 [==============================] - 0s 4ms/step - loss: 1.1227 - accuracy: 0.3333\n",
      "Epoch 7/50\n",
      "1/1 [==============================] - 0s 3ms/step - loss: 0.9944 - accuracy: 0.5000\n",
      "Epoch 8/50\n",
      "1/1 [==============================] - 0s 4ms/step - loss: 0.8753 - accuracy: 0.5000\n",
      "Epoch 9/50\n",
      "1/1 [==============================] - 0s 3ms/step - loss: 0.7775 - accuracy: 0.6667\n",
      "Epoch 10/50\n",
      "1/1 [==============================] - 0s 3ms/step - loss: 0.7013 - accuracy: 0.6667\n",
      "Epoch 11/50\n",
      "1/1 [==============================] - 0s 3ms/step - loss: 0.6302 - accuracy: 0.8333\n",
      "Epoch 12/50\n",
      "1/1 [==============================] - 0s 5ms/step - loss: 0.5687 - accuracy: 1.0000\n",
      "Epoch 13/50\n",
      "1/1 [==============================] - 0s 3ms/step - loss: 0.5154 - accuracy: 1.0000\n",
      "Epoch 14/50\n",
      "1/1 [==============================] - 0s 4ms/step - loss: 0.4700 - accuracy: 1.0000\n",
      "Epoch 15/50\n",
      "1/1 [==============================] - 0s 3ms/step - loss: 0.4268 - accuracy: 1.0000\n",
      "Epoch 16/50\n",
      "1/1 [==============================] - 0s 5ms/step - loss: 0.3817 - accuracy: 1.0000\n",
      "Epoch 17/50\n",
      "1/1 [==============================] - 0s 3ms/step - loss: 0.3366 - accuracy: 1.0000\n",
      "Epoch 18/50\n",
      "1/1 [==============================] - 0s 3ms/step - loss: 0.2926 - accuracy: 1.0000\n",
      "Epoch 19/50\n",
      "1/1 [==============================] - 0s 3ms/step - loss: 0.2500 - accuracy: 1.0000\n",
      "Epoch 20/50\n",
      "1/1 [==============================] - 0s 4ms/step - loss: 0.2106 - accuracy: 1.0000\n",
      "Epoch 21/50\n",
      "1/1 [==============================] - 0s 3ms/step - loss: 0.1770 - accuracy: 1.0000\n",
      "Epoch 22/50\n",
      "1/1 [==============================] - 0s 3ms/step - loss: 0.1496 - accuracy: 1.0000\n",
      "Epoch 23/50\n",
      "1/1 [==============================] - 0s 3ms/step - loss: 0.1269 - accuracy: 1.0000\n",
      "Epoch 24/50\n",
      "1/1 [==============================] - 0s 4ms/step - loss: 0.1070 - accuracy: 1.0000\n",
      "Epoch 25/50\n",
      "1/1 [==============================] - 0s 3ms/step - loss: 0.0894 - accuracy: 1.0000\n",
      "Epoch 26/50\n",
      "1/1 [==============================] - 0s 3ms/step - loss: 0.0739 - accuracy: 1.0000\n",
      "Epoch 27/50\n",
      "1/1 [==============================] - 0s 3ms/step - loss: 0.0606 - accuracy: 1.0000\n",
      "Epoch 28/50\n",
      "1/1 [==============================] - 0s 4ms/step - loss: 0.0494 - accuracy: 1.0000\n",
      "Epoch 29/50\n",
      "1/1 [==============================] - 0s 3ms/step - loss: 0.0401 - accuracy: 1.0000\n",
      "Epoch 30/50\n",
      "1/1 [==============================] - 0s 3ms/step - loss: 0.0325 - accuracy: 1.0000\n",
      "Epoch 31/50\n",
      "1/1 [==============================] - 0s 3ms/step - loss: 0.0264 - accuracy: 1.0000\n",
      "Epoch 32/50\n",
      "1/1 [==============================] - 0s 3ms/step - loss: 0.0215 - accuracy: 1.0000\n",
      "Epoch 33/50\n",
      "1/1 [==============================] - 0s 4ms/step - loss: 0.0177 - accuracy: 1.0000\n",
      "Epoch 34/50\n",
      "1/1 [==============================] - 0s 3ms/step - loss: 0.0148 - accuracy: 1.0000\n",
      "Epoch 35/50\n",
      "1/1 [==============================] - 0s 3ms/step - loss: 0.0126 - accuracy: 1.0000\n",
      "Epoch 36/50\n",
      "1/1 [==============================] - 0s 4ms/step - loss: 0.0110 - accuracy: 1.0000\n",
      "Epoch 37/50\n",
      "1/1 [==============================] - 0s 3ms/step - loss: 0.0097 - accuracy: 1.0000\n",
      "Epoch 38/50\n",
      "1/1 [==============================] - 0s 3ms/step - loss: 0.0087 - accuracy: 1.0000\n",
      "Epoch 39/50\n",
      "1/1 [==============================] - 0s 3ms/step - loss: 0.0079 - accuracy: 1.0000\n",
      "Epoch 40/50\n",
      "1/1 [==============================] - 0s 4ms/step - loss: 0.0071 - accuracy: 1.0000\n",
      "Epoch 41/50\n",
      "1/1 [==============================] - 0s 3ms/step - loss: 0.0065 - accuracy: 1.0000\n",
      "Epoch 42/50\n",
      "1/1 [==============================] - 0s 3ms/step - loss: 0.0060 - accuracy: 1.0000\n",
      "Epoch 43/50\n",
      "1/1 [==============================] - 0s 3ms/step - loss: 0.0055 - accuracy: 1.0000\n",
      "Epoch 44/50\n",
      "1/1 [==============================] - 0s 4ms/step - loss: 0.0051 - accuracy: 1.0000\n",
      "Epoch 45/50\n",
      "1/1 [==============================] - 0s 3ms/step - loss: 0.0047 - accuracy: 1.0000\n",
      "Epoch 46/50\n",
      "1/1 [==============================] - 0s 3ms/step - loss: 0.0044 - accuracy: 1.0000\n",
      "Epoch 47/50\n",
      "1/1 [==============================] - 0s 3ms/step - loss: 0.0041 - accuracy: 1.0000\n",
      "Epoch 48/50\n",
      "1/1 [==============================] - 0s 3ms/step - loss: 0.0039 - accuracy: 1.0000\n",
      "Epoch 49/50\n",
      "1/1 [==============================] - 0s 4ms/step - loss: 0.0037 - accuracy: 1.0000\n",
      "Epoch 50/50\n",
      "1/1 [==============================] - 0s 3ms/step - loss: 0.0035 - accuracy: 1.0000\n",
      "Model: \"sequential\"\n",
      "_________________________________________________________________\n",
      "Layer (type)                 Output Shape              Param #   \n",
      "=================================================================\n",
      "rnn (RNN)                    (None, 6, 5)              220       \n",
      "_________________________________________________________________\n",
      "time_distributed (TimeDistri (None, 6, 5)              30        \n",
      "=================================================================\n",
      "Total params: 250\n",
      "Trainable params: 250\n",
      "Non-trainable params: 0\n",
      "_________________________________________________________________\n"
     ]
    }
   ],
   "source": [
    "cell = tf.keras.layers.LSTMCell(units=num_classes, input_shape = (sequence_len,input_dim))\n",
    "model.add(tf.keras.layers.RNN(cell=cell, return_sequences = True))\n",
    "\n",
    "#fully connected layer\n",
    "model.add(tf.keras.layers.TimeDistributed(tf.keras.layers.Dense(units=num_classes,activation='softmax')))\n",
    "model.compile(loss='categorical_crossentropy',optimizer=tf.keras.optimizers.Adam(learning_rate = learning_rate),\n",
    "                                                                                  metrics = ['accuracy'])\n",
    "model.fit(x_one_hot,y_one_hot,epochs=50)\n",
    "model.summary()"
   ]
  },
  {
   "cell_type": "code",
   "execution_count": 7,
   "id": "c4091336",
   "metadata": {},
   "outputs": [],
   "source": [
    "predictions = model.predict(x_one_hot)"
   ]
  },
  {
   "cell_type": "code",
   "execution_count": 8,
   "id": "708e5f9e",
   "metadata": {},
   "outputs": [
    {
     "name": "stdout",
     "output_type": "stream",
     "text": [
      "[[2.68259225e-03 9.96708751e-01 3.17876344e-04 9.51165784e-05\n",
      "  1.95531131e-04]\n",
      " [9.97134566e-01 1.23125862e-03 1.62145670e-03 1.04578294e-05\n",
      "  2.21368487e-06]\n",
      " [1.21148909e-03 1.10363668e-04 9.95538294e-01 3.13956104e-03\n",
      "  2.06035210e-07]\n",
      " [3.67817563e-07 2.21583701e-04 2.61905533e-03 9.97119188e-01\n",
      "  3.98362754e-05]\n",
      " [3.15286314e-07 2.50090030e-04 1.15896415e-04 9.97179270e-01\n",
      "  2.45449739e-03]\n",
      " [1.11790307e-07 6.40478829e-05 8.37136138e-09 3.49957170e-03\n",
      "  9.96436238e-01]]\n",
      "\tPrediction str:  ihello\n"
     ]
    }
   ],
   "source": [
    "for i,prediction in enumerate(predictions):\n",
    "    print(prediction)\n",
    "    result_str = [idx2char[c] for c in np.argmax(prediction,axis=1)]\n",
    "    print(\"\\tPrediction str: \", ''.join(result_str))\n",
    "    \n",
    "#joi함수 '구분자'.joint(list) : ['a','b',c'] -> a'구분자'b'구분자'c'구분자'"
   ]
  },
  {
   "cell_type": "code",
   "execution_count": 9,
   "id": "8514710b",
   "metadata": {},
   "outputs": [
    {
     "name": "stdout",
     "output_type": "stream",
     "text": [
      "[[2.68259225e-03 9.96708751e-01 3.17876344e-04 9.51165784e-05\n",
      "  1.95531131e-04]\n",
      " [9.97134566e-01 1.23125862e-03 1.62145670e-03 1.04578294e-05\n",
      "  2.21368487e-06]\n",
      " [1.21148909e-03 1.10363668e-04 9.95538294e-01 3.13956104e-03\n",
      "  2.06035210e-07]\n",
      " [3.67817563e-07 2.21583701e-04 2.61905533e-03 9.97119188e-01\n",
      "  3.98362754e-05]\n",
      " [3.15286314e-07 2.50090030e-04 1.15896415e-04 9.97179270e-01\n",
      "  2.45449739e-03]\n",
      " [1.11790307e-07 6.40478829e-05 8.37136138e-09 3.49957170e-03\n",
      "  9.96436238e-01]]\n",
      "[1 0 2 3 3 4]\n"
     ]
    },
    {
     "ename": "TypeError",
     "evalue": "only integer scalar arrays can be converted to a scalar index",
     "output_type": "error",
     "traceback": [
      "\u001b[0;31m---------------------------------------------------------------------------\u001b[0m",
      "\u001b[0;31mTypeError\u001b[0m                                 Traceback (most recent call last)",
      "\u001b[0;32m/var/folders/d9/j4fzl6g10m97nw0c5yzh_bh40000gn/T/ipykernel_28588/2658728932.py\u001b[0m in \u001b[0;36m<module>\u001b[0;34m\u001b[0m\n\u001b[1;32m      3\u001b[0m     \u001b[0mc\u001b[0m \u001b[0;34m=\u001b[0m \u001b[0mnp\u001b[0m\u001b[0;34m.\u001b[0m\u001b[0margmax\u001b[0m\u001b[0;34m(\u001b[0m\u001b[0mprediction\u001b[0m\u001b[0;34m,\u001b[0m\u001b[0maxis\u001b[0m\u001b[0;34m=\u001b[0m\u001b[0;36m1\u001b[0m\u001b[0;34m)\u001b[0m\u001b[0;34m\u001b[0m\u001b[0;34m\u001b[0m\u001b[0m\n\u001b[1;32m      4\u001b[0m     \u001b[0mprint\u001b[0m\u001b[0;34m(\u001b[0m\u001b[0mc\u001b[0m\u001b[0;34m)\u001b[0m\u001b[0;34m\u001b[0m\u001b[0;34m\u001b[0m\u001b[0m\n\u001b[0;32m----> 5\u001b[0;31m     \u001b[0mresult_str\u001b[0m \u001b[0;34m=\u001b[0m \u001b[0midx2char\u001b[0m\u001b[0;34m[\u001b[0m\u001b[0mc\u001b[0m\u001b[0;34m]\u001b[0m\u001b[0;34m\u001b[0m\u001b[0;34m\u001b[0m\u001b[0m\n\u001b[0m\u001b[1;32m      6\u001b[0m     \u001b[0mprint\u001b[0m\u001b[0;34m(\u001b[0m\u001b[0;34m\"\\tPrediction str: \"\u001b[0m\u001b[0;34m,\u001b[0m \u001b[0;34m''\u001b[0m\u001b[0;34m.\u001b[0m\u001b[0mjoin\u001b[0m\u001b[0;34m(\u001b[0m\u001b[0mresult_str\u001b[0m\u001b[0;34m)\u001b[0m\u001b[0;34m)\u001b[0m\u001b[0;34m\u001b[0m\u001b[0;34m\u001b[0m\u001b[0m\n",
      "\u001b[0;31mTypeError\u001b[0m: only integer scalar arrays can be converted to a scalar index"
     ]
    }
   ],
   "source": [
    "for i,prediction in enumerate(predictions):\n",
    "    print(prediction)\n",
    "    c = np.argmax(prediction,axis=1)\n",
    "    print(c)\n",
    "    result_str = idx2char[c] \n",
    "    print(\"\\tPrediction str: \", ''.join(result_str))\n"
   ]
  }
 ],
 "metadata": {
  "kernelspec": {
   "display_name": "tf24",
   "language": "python",
   "name": "tf24"
  },
  "language_info": {
   "codemirror_mode": {
    "name": "ipython",
    "version": 3
   },
   "file_extension": ".py",
   "mimetype": "text/x-python",
   "name": "python",
   "nbconvert_exporter": "python",
   "pygments_lexer": "ipython3",
   "version": "3.8.6"
  }
 },
 "nbformat": 4,
 "nbformat_minor": 5
}
